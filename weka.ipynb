{
 "cells": [
  {
   "cell_type": "code",
   "execution_count": 12,
   "metadata": {
    "id": "laEicYeS63VH"
   },
   "outputs": [],
   "source": [
    "import pandas as pd\n",
    "from pandas import DataFrame\n",
    "import scipy.stats as st\n",
    "import numpy as np\n",
    "from xgboost import XGBRegressor\n",
    "import scipy.stats as st"
   ]
  },
  {
   "cell_type": "code",
   "execution_count": 13,
   "metadata": {
    "id": "pAUL4JAt68dp"
   },
   "outputs": [],
   "source": [
    "cols = ['id', 'text', 'label', 'intensity']\n",
    "Anger_train = pd.read_csv (r'angertrain.csv')\n",
    "del Anger_train['x1']\n",
    "temp1=pd.read_csv (r'anger-ratings-0to1.train.txt',sep='\\t',names=cols, index_col=0)\n",
    "temp2=pd.read_csv (r'anger-ratings-0to1.dev.gold.txt',sep='\\t',names=cols, index_col=0)\n",
    "temp3 = [temp1['intensity'] , temp2['intensity']]\n",
    "Anger_train_y = pd.concat(temp3)\n",
    "\n",
    "Anger_test = pd.read_csv (r'angertest.csv')\n",
    "del Anger_test['x1']\n",
    "temp4 = pd.read_csv (r'anger-ratings-0to1.test.gold.txt',sep='\\t',names=cols, index_col=0)\n",
    "y_gold = temp4['intensity']\n"
   ]
  },
  {
   "cell_type": "code",
   "execution_count": 14,
   "metadata": {
    "id": "UTzC1yy-7lU1"
   },
   "outputs": [],
   "source": [
    "def evaluate(pred, gold):\n",
    "    if len(pred) == len(gold):\n",
    "\n",
    "        \n",
    "        # return zero correlation if predictions are constant\n",
    "        if np.std(pred)==0 or np.std(gold)==0:\n",
    "            return (0,0,0,0)\n",
    "        \n",
    "        pears_corr=st.pearsonr(pred,gold)[0]                                    \n",
    "        spear_corr=st.spearmanr(pred,gold)[0]   \n",
    "\n",
    "\n",
    "\n",
    "      \n",
    "        return np.array([pears_corr,spear_corr])\n"
   ]
  },
  {
   "cell_type": "code",
   "execution_count": 15,
   "metadata": {
    "colab": {
     "base_uri": "https://localhost:8080/"
    },
    "id": "tMoFN38w7qVw",
    "outputId": "96574849-89ce-4cb2-b7dd-2253afc15225"
   },
   "outputs": [
    {
     "name": "stdout",
     "output_type": "stream",
     "text": [
      "[14:30:30] WARNING: /workspace/src/objective/regression_obj.cu:152: reg:linear is now deprecated in favor of reg:squarederror.\n"
     ]
    },
    {
     "data": {
      "text/plain": [
       "array([0.59434662, 0.58326201])"
      ]
     },
     "execution_count": 15,
     "metadata": {
      "tags": []
     },
     "output_type": "execute_result"
    }
   ],
   "source": [
    "model = XGBRegressor(max_depth=3, n_estimators=25000)\n",
    "\n",
    "Anger_train = np.array(Anger_train)\n",
    "Anger_train_y = np.array(Anger_train_y)\n",
    "model.fit(Anger_train,Anger_train_y)\n",
    "\n",
    "y_pred = model.predict(Anger_test.to_numpy())\n",
    "\n",
    "evaluate(y_pred, y_gold)\n",
    "\n"
   ]
  },
  {
   "cell_type": "code",
   "execution_count": 9,
   "metadata": {
    "colab": {
     "base_uri": "https://localhost:8080/"
    },
    "id": "edWnnLEB8a8U",
    "outputId": "445b3ca8-5192-4a8f-b890-15736d7bff6d"
   },
   "outputs": [
    {
     "data": {
      "text/plain": [
       "array([[1., 0., 0., ..., 0., 0., 0.],\n",
       "       [0., 1., 0., ..., 0., 0., 0.],\n",
       "       [0., 4., 0., ..., 0., 0., 0.],\n",
       "       ...,\n",
       "       [1., 1., 1., ..., 0., 0., 0.],\n",
       "       [2., 1., 0., ..., 0., 0., 0.],\n",
       "       [0., 2., 0., ..., 0., 0., 0.]])"
      ]
     },
     "execution_count": 9,
     "metadata": {
      "tags": []
     },
     "output_type": "execute_result"
    }
   ],
   "source": []
  },
  {
   "cell_type": "code",
   "execution_count": null,
   "metadata": {
    "id": "S8MuzHOQ88Zw"
   },
   "outputs": [],
   "source": []
  }
 ],
 "metadata": {
  "colab": {
   "name": "weka",
   "provenance": []
  },
  "kernelspec": {
   "display_name": "Python 3",
   "language": "python",
   "name": "python3"
  },
  "language_info": {
   "codemirror_mode": {
    "name": "ipython",
    "version": 3
   },
   "file_extension": ".py",
   "mimetype": "text/x-python",
   "name": "python",
   "nbconvert_exporter": "python",
   "pygments_lexer": "ipython3",
   "version": "3.8.3"
  }
 },
 "nbformat": 4,
 "nbformat_minor": 1
}
